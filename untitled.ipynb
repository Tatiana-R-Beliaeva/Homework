{
  "nbformat": 4,
  "nbformat_minor": 0,
  "metadata": {
    "colab": {
      "provenance": [],
      "authorship_tag": "ABX9TyNBg3Tcryl8YN6v0pWWbAoH",
      "include_colab_link": true
    },
    "kernelspec": {
      "name": "python3",
      "display_name": "Python 3"
    },
    "language_info": {
      "name": "python"
    }
  },
  "cells": [
    {
      "cell_type": "markdown",
      "metadata": {
        "id": "view-in-github",
        "colab_type": "text"
      },
      "source": [
        "<a href=\"https://colab.research.google.com/github/Tatiana-R-Beliaeva/Homework/blob/main/untitled.ipynb\" target=\"_parent\"><img src=\"https://colab.research.google.com/assets/colab-badge.svg\" alt=\"Open In Colab\"/></a>"
      ]
    },
    {
      "cell_type": "code",
      "execution_count": null,
      "metadata": {
        "id": "8FwDF9RBkGsT"
      },
      "outputs": [],
      "source": []
    },
    {
      "cell_type": "markdown",
      "source": [
        "Задача 1\n",
        "Условный оператор if-elif-else\n",
        "В Вышке научились измерять душевную боль... (Это правда: Источник)\n",
        "\n",
        "Давайте тоже предложим свою шкалу!\n",
        "\n",
        "В ячейке ниже - код \"определителя душевной боли\" от 1 до 10. Давайте его улучшим:\n",
        "\n",
        "1. добавьте условие для случаев, если пользователь вводит число больше 10\n",
        "\n",
        "2. добавьте еще два условия, чтобы разделение на категории душевной боли было еще точнее\n",
        "\n",
        "добавьте к вещественным числам примеры, чтобы пользователю было легче оценить свою душевную боль (например, шкала от утреннего кофе, пролитого на рубашку, до студента на сессии...)\n",
        "\n",
        "Подсказка: будет легче, если нарисовать себе схему условий на бумаге"
      ],
      "metadata": {
        "id": "YiVCpMUTkZXP"
      }
    },
    {
      "cell_type": "code",
      "source": [
        "# определитель душевной боли\n",
        "\n",
        "a = float(input('Оцените силу вашей душевной боли по шкале от 0 до 10: '))\n",
        "\n",
        "if a < 0:\n",
        "    print('Пожалуйста, введите корректное значение силы вашей душевной боли')\n",
        "elif 0 <= a < 0.7:\n",
        "    print('Кажется, вы испытываете легкое огорчение. Как человек в короткой поездке в метро, забывший дома наушники')\n",
        "elif 0.7 <= a <= 4.2:\n",
        "    print('Вы встревожены - почти как человек, которому придется звонить по телефону, и это в эпоху мессенджеров! То самое чувство, когда начинаете нервно репетировать в голове диалог...')\n",
        "elif 4.2 < a <= 7:\n",
        "    print('Вы встревожены как человек, который забыл выключил ли он утюг дома')\n",
        "elif 7 < a <=10:\n",
        "    print('Ваше состояние - \"на краю пропасти\"')\n",
        "else :\n",
        "    print('Вызывайте дурку')\n",
        "\n",
        "# продолжите программу дальше\n",
        "# примеры и значения выше можно заменить на ваши"
      ],
      "metadata": {
        "colab": {
          "base_uri": "https://localhost:8080/"
        },
        "id": "PGuIEAHhmhfF",
        "outputId": "c10690b2-5d97-4bfc-f6a4-a3b6d8516684"
      },
      "execution_count": null,
      "outputs": [
        {
          "output_type": "stream",
          "name": "stdout",
          "text": [
            "Оцените силу вашей душевной боли по шкале от 0 до 10: 9\n",
            "Ваше состояние - \"на краю пропасти\"\n"
          ]
        }
      ]
    },
    {
      "cell_type": "markdown",
      "source": [
        "Задача 2\n",
        "Список, цикл for\n",
        "Робот, выбирающий пользователю коктейль:\n",
        "\n",
        "Представьте, что Вы разрабатываете (фрагмент) электронного помощника для ресторана.\n",
        "\n",
        "У Вас есть список коктейлей, где каждый коктейль представлен в виде списка ингридиентов (у нас получается список списков). Программа рандомным образом должна выбрать один из коктейлей (т.е. один из списков в общем списке) и вывести на экран сообщение: \"Сегодня в вашем коктейле будет: \" и сам список ингридиентов\n",
        "\n",
        "Но есть одно условие: в некоторые из списков по ошибке попал \"лосось\". Строку \"лосось\" нужно убрать (здесь вам поможет один метод работы со списками) ,но так как лосось есть не везде, нужно предварительно проверить его наличие в списке.\n",
        "\n",
        "[ ]\n"
      ],
      "metadata": {
        "id": "6kyV9N_ysYDn"
      }
    },
    {
      "cell_type": "code",
      "source": [
        "import random\n",
        "\n",
        "cocktails =  [\n",
        "    [\"мартини\",\"грейпфрутовый сок\",\"жасмин\",\"тоник\",\"лосось\"],\n",
        "    [\"клубника\",\"какао\",\"мята\",\"марсала\"],\n",
        "    [\"водка\",\"томатный сок\",\"лимонный сок\",\"вустерширский соус\",\"черный перец\",\"сельдерей\",\"лосось\"],\n",
        "    [\"джин\",\"вермут\",\"ликер мараскино\",\"апельсины\",\"коктейльная вишня\",\"лосось\"],\n",
        "    [\"ром\",\"авокадо\",\"сахарный сироп\",\"сливки\",\"лимонный сок\",\"лед\"],\n",
        "    [\"красный вермут\",\"тоник\",\"апельсины\",\"лосось\"],\n",
        "    [\"только чай\"]\n",
        "]\n",
        "for x in cocktails:\n",
        "  for y in x:\n",
        "    if y == \"лосось\":\n",
        "        x.remove(\"лосось\")\n",
        "\n",
        "print(cocktails)\n",
        "\n",
        "print(random.choice(cocktails))\n"
      ],
      "metadata": {
        "colab": {
          "base_uri": "https://localhost:8080/"
        },
        "id": "7VSV9a7nvfOE",
        "outputId": "a4b1cf20-8bcc-461a-a314-d08c04b92bc9"
      },
      "execution_count": null,
      "outputs": [
        {
          "output_type": "stream",
          "name": "stdout",
          "text": [
            "[['мартини', 'грейпфрутовый сок', 'жасмин', 'тоник'], ['клубника', 'какао', 'мята', 'марсала'], ['водка', 'томатный сок', 'лимонный сок', 'вустерширский соус', 'черный перец', 'сельдерей'], ['джин', 'вермут', 'ликер мараскино', 'апельсины', 'коктейльная вишня'], ['ром', 'авокадо', 'сахарный сироп', 'сливки', 'лимонный сок', 'лед'], ['красный вермут', 'тоник', 'апельсины'], ['только чай']]\n",
            "['только чай']\n"
          ]
        }
      ]
    },
    {
      "cell_type": "markdown",
      "source": [
        "Задача 3\n",
        "Множества и словари\n",
        "Алиса коллекционирует открыткм, которые она получила из разных стран от друзей. Она знает, что Мария прислала ей открытку из Лондона, Лоренцо -- из Милана, Олег - из Канберры, Ханс -- из Кальгари, Марк -- тоже из Милана, Алекс - из Кракова, и совсем недавно пришла открытка от Юлии из Мурманска.\n",
        "\n",
        "Сейчас ее архив выглядит вот так:\n",
        "\n",
        "[ ]\n",
        "postcards = {\n",
        "    \"Maria\": \"London\",\n",
        "    \"Lorenzo\": \"Milan\",\n",
        "    \"Oleg\": \"Canberra\",\n",
        "    \"Hans\": \"Calgary\",\n",
        "    \"Mark\": \"Milan\",\n",
        "    \"Alex\": \"Krakow\",\n",
        "    \"Julia\": \"Murmansk\"\n",
        "}\n",
        "Однажды Алиса показала Вам свою бумажную коллекцию, и Вы заметили неточности:\n",
        "\n",
        "в архиве не хватает двух открыток: от Петры из Парижа и от Ивана из Москвы. Добавьте их в архив Алисы.\n",
        "\n",
        "открытка, присланная Олегом на самом деле не из Канберры, а из Сиднея. Исправьте город на верный, изменив значение по ключу в словаре.\n",
        "\n",
        "Алиса говорит, что в ее коллекции более 10 уникальных городов. Сколько их на самом деле? Выведите названия этих городов.\n",
        "\n",
        "[ ]\n"
      ],
      "metadata": {
        "id": "BE78rWlpzqKE"
      }
    },
    {
      "cell_type": "code",
      "source": [
        "postcards = {\n",
        "    \"Maria\": \"London\",\n",
        "    \"Lorenzo\": \"Milan\",\n",
        "    \"Oleg\": \"Canberra\",\n",
        "    \"Hans\": \"Calgary\",\n",
        "    \"Mark\": \"Milan\",\n",
        "    \"Alex\": \"Krakow\",\n",
        "    \"Julia\": \"Murmansk\"\n",
        "}\n",
        "postcards.update({\"Petra\": \"Paris\",\n",
        "                  \"Ivan\": \"Moscow\"})\n",
        "postcards"
      ],
      "metadata": {
        "colab": {
          "base_uri": "https://localhost:8080/"
        },
        "id": "hOI0PsZWz3Us",
        "outputId": "6ded310a-aedb-4fd8-891a-e3f06f936461"
      },
      "execution_count": null,
      "outputs": [
        {
          "output_type": "execute_result",
          "data": {
            "text/plain": [
              "{'Maria': 'London',\n",
              " 'Lorenzo': 'Milan',\n",
              " 'Oleg': 'Canberra',\n",
              " 'Hans': 'Calgary',\n",
              " 'Mark': 'Milan',\n",
              " 'Alex': 'Krakow',\n",
              " 'Julia': 'Murmansk',\n",
              " 'Petra': 'Paris',\n",
              " 'Ivan': 'Moscow'}"
            ]
          },
          "metadata": {},
          "execution_count": 10
        }
      ]
    },
    {
      "cell_type": "code",
      "source": [
        "postcards['Oleg'] = 'Sidney'\n",
        "postcards"
      ],
      "metadata": {
        "colab": {
          "base_uri": "https://localhost:8080/"
        },
        "id": "u8lVxfQXzxTD",
        "outputId": "49f6c8ec-d940-4e07-c8ad-4e9a975302fc"
      },
      "execution_count": null,
      "outputs": [
        {
          "output_type": "execute_result",
          "data": {
            "text/plain": [
              "{'Maria': 'London',\n",
              " 'Lorenzo': 'Milan',\n",
              " 'Oleg': 'Sidney',\n",
              " 'Hans': 'Calgary',\n",
              " 'Mark': 'Milan',\n",
              " 'Alex': 'Krakow',\n",
              " 'Julia': 'Murmansk',\n",
              " 'Petra': 'Paris',\n",
              " 'Ivan': 'Moscow'}"
            ]
          },
          "metadata": {},
          "execution_count": 14
        }
      ]
    },
    {
      "cell_type": "code",
      "source": [
        "postcards= {}\n",
        "print(postcards, type(postcards))"
      ],
      "metadata": {
        "colab": {
          "base_uri": "https://localhost:8080/"
        },
        "id": "Ge9KNvP4el0x",
        "outputId": "ffd9114c-20df-4f4f-e6d8-e24630656a66"
      },
      "execution_count": null,
      "outputs": [
        {
          "output_type": "stream",
          "name": "stdout",
          "text": [
            "{} <class 'dict'>\n"
          ]
        }
      ]
    },
    {
      "cell_type": "code",
      "source": [
        "postcards = {'Maria': 'London',\n",
        " 'Lorenzo': 'Milan',\n",
        " 'Oleg': 'Sidney',\n",
        " 'Hans': 'Calgary',\n",
        " 'Mark': 'Milan',\n",
        " 'Alex': 'Krakow',\n",
        " 'Julia': 'Murmansk',\n",
        " 'Petra': 'Paris',\n",
        " 'Ivan': 'Moscow'}\n",
        "\n",
        "for i in postcards:\n",
        "\n",
        "  list = postcards[i]\n"
      ],
      "metadata": {
        "id": "4YHGLKgKe8Tx"
      },
      "execution_count": null,
      "outputs": []
    },
    {
      "cell_type": "code",
      "source": [
        "list = ['London', 'Milan', 'Sidney', 'Calgary', 'Milan', 'Krakow', 'Murmansk', 'Paris', 'Moscow']\n",
        "list1 = set(list)\n",
        "print(list)"
      ],
      "metadata": {
        "colab": {
          "base_uri": "https://localhost:8080/"
        },
        "id": "jne3HLGMqoBu",
        "outputId": "62c7098a-02e9-4ba4-ab7c-c26d0004ef28"
      },
      "execution_count": null,
      "outputs": [
        {
          "output_type": "stream",
          "name": "stdout",
          "text": [
            "{'Sidney', 'London', 'Krakow', 'Milan', 'Moscow', 'Calgary', 'Murmansk', 'Paris'}\n"
          ]
        }
      ]
    },
    {
      "cell_type": "markdown",
      "source": [
        "# Новый раздел"
      ],
      "metadata": {
        "id": "ntDOrrLcf_Qs"
      }
    },
    {
      "cell_type": "code",
      "source": [
        "\n",
        "list = set(list)\n",
        "print(\"Output list : \",list)\n",
        "print(\"No of unique elements in the list are:\", len(list))\n"
      ],
      "metadata": {
        "colab": {
          "base_uri": "https://localhost:8080/"
        },
        "id": "YXx5_lTeMptu",
        "outputId": "27f4ca3a-c579-4b97-c506-1950c7e9b7c4"
      },
      "execution_count": null,
      "outputs": [
        {
          "output_type": "stream",
          "name": "stdout",
          "text": [
            "Output list :  {'Sidney', 'London', 'Krakow', 'Milan', 'Moscow', 'Calgary', 'Murmansk', 'Paris'}\n",
            "No of unique elements in the list are: 8\n"
          ]
        }
      ]
    }
  ]
}